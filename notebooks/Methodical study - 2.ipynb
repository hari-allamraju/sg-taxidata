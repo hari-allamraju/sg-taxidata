{
 "cells": [
  {
   "cell_type": "code",
   "execution_count": 1,
   "metadata": {
    "collapsed": true
   },
   "outputs": [],
   "source": [
    "%load_ext autoreload\n",
    "%autoreload 2\n",
    "\n",
    "import pandas as pd\n",
    "import numpy as np\n",
    "import sqlite3\n",
    "from sgtaxidata import *\n",
    "from sklearn.linear_model import *\n",
    "from sklearn.kernel_ridge import *\n",
    "from sklearn.pipeline import *\n",
    "from sklearn.preprocessing import *\n",
    "from datetime import datetime\n",
    "from sklearn.cluster import *\n",
    "from sklearn.svm import *\n",
    "from sklearn.ensemble import *\n",
    "from sklearn.neighbors import *\n",
    "from matplotlib import cm\n",
    "\n",
    "DBNAME=\"../taxis.db\"\n",
    "LAT=1.380766\n",
    "LON=103.891675\n",
    "LAT1=1.303693\n",
    "LON1=103.844952\n",
    "\n",
    "holidays=['20170626']\n",
    "def peak(h,m,w):\n",
    "    return 1 if ((w==1 and (h>=6 and (h <=9 and m<30)) or (h >= 18))) else 0\n",
    "\n",
    "def weekday(d):\n",
    "    dt=datetime.strptime(d,\"%Y%m%d\")\n",
    "    return 1 if datetime.isoweekday(dt)<6 else 0\n"
   ]
  },
  {
   "cell_type": "code",
   "execution_count": 2,
   "metadata": {},
   "outputs": [
    {
     "data": {
      "text/plain": [
       "['20170624',\n",
       " '20170625',\n",
       " '20170626',\n",
       " '20170627',\n",
       " '20170628',\n",
       " '20170629',\n",
       " '20170630',\n",
       " '20170701',\n",
       " '20170702',\n",
       " '20170703',\n",
       " '20170704',\n",
       " '20170705',\n",
       " '20170706',\n",
       " '20170707',\n",
       " '20170708']"
      ]
     },
     "execution_count": 2,
     "metadata": {},
     "output_type": "execute_result"
    }
   ],
   "source": [
    "dates=taxis.get_dates(DBNAME)\n",
    "dates=[str(x[0]) for x in dates]\n",
    "dates\n"
   ]
  },
  {
   "cell_type": "code",
   "execution_count": 3,
   "metadata": {
    "collapsed": true
   },
   "outputs": [],
   "source": [
    "def process_date(date):\n",
    "    if weekday(date)==0:\n",
    "        return None\n",
    "    df=taxis.getdf_date(DBNAME,date)\n",
    "    h=df.quantile(q=0.9)['TaxiCount']\n",
    "    l=df.quantile(q=0.1)['TaxiCount']\n",
    "    df['Date']=date\n",
    "    df['Hour']=df.apply(lambda r:int(r['Time'][:2]),axis=1)\n",
    "    df['Minute']=df.apply(lambda r:int(r['Time'][2:]),axis=1)\n",
    "    df['Weekday']=df.apply(lambda r: weekday(r['Date']),axis=1)\n",
    "    df['Holiday']=df.apply(lambda r: 1 if r['Date'] in holidays else 0,axis=1)\n",
    "    df['PeakHour']=df.apply(lambda r: peak(r['Hour'],r['Minute'],r['Weekday']),axis=1)\n",
    "    df=df.query('(TaxiCount>=@l and TaxiCount<=@h) and (Hour>=6 and Hour<=12) and Weekday==1')[['X','Y','Hour','Minute','PeakHour','TaxiCount']]\n",
    "    return df\n"
   ]
  },
  {
   "cell_type": "code",
   "execution_count": 4,
   "metadata": {
    "collapsed": true
   },
   "outputs": [],
   "source": [
    "data=[process_date(date) for date in dates]\n",
    "data=[x for x in data if x is not None]"
   ]
  },
  {
   "cell_type": "code",
   "execution_count": 5,
   "metadata": {},
   "outputs": [
    {
     "name": "stderr",
     "output_type": "stream",
     "text": [
      "/Users/hari/python/py2/taxidata/lib/python2.7/site-packages/ipykernel_launcher.py:5: DataConversionWarning: A column-vector y was passed when a 1d array was expected. Please change the shape of y to (n_samples,), for example using ravel().\n",
      "  \"\"\"\n",
      "/Users/hari/python/py2/taxidata/lib/python2.7/site-packages/sklearn/ensemble/forest.py:723: UserWarning: Some inputs do not have OOB scores. This probably means too few trees were used to compute any reliable oob estimates.\n",
      "  warn(\"Some inputs do not have OOB scores. \"\n"
     ]
    },
    {
     "name": "stdout",
     "output_type": "stream",
     "text": [
      "0.981441832229\n",
      "0.878657219785\n",
      "0.881232422079\n",
      "0.830464112419\n",
      "0.85912175991\n",
      "0.868340740775\n",
      "0.896716760369\n",
      "0.885233681101\n",
      "0.790536867408\n"
     ]
    }
   ],
   "source": [
    "rf=RandomForestRegressor(n_estimators=10,criterion='mse',oob_score=True,n_jobs=5,warm_start=True)\n",
    "for df in data[:-1]:\n",
    "    X=df.drop(['TaxiCount'],axis=1).as_matrix()\n",
    "    y=np.array(df['TaxiCount'].tolist()).reshape(-1,1)\n",
    "    rf.fit(X,y)\n",
    "    print rf.score(X,y)\n",
    "    rf.n_estimators+=10"
   ]
  },
  {
   "cell_type": "code",
   "execution_count": 6,
   "metadata": {},
   "outputs": [
    {
     "name": "stdout",
     "output_type": "stream",
     "text": [
      "                  X             Y          Hour        Minute      PeakHour  \\\n",
      "count  61307.000000  61307.000000  61307.000000  61307.000000  61307.000000   \n",
      "mean      18.315462     10.252337      8.998092     27.507462      0.285367   \n",
      "std       11.302697      6.198658      1.997873     17.279430      0.451593   \n",
      "min        0.000000      0.000000      6.000000      0.000000      0.000000   \n",
      "25%        8.000000      5.000000      7.000000     10.000000      0.000000   \n",
      "50%       18.000000     11.000000      9.000000     30.000000      0.000000   \n",
      "75%       28.000000     16.000000     11.000000     45.000000      1.000000   \n",
      "max       37.000000     20.000000     12.000000     55.000000      1.000000   \n",
      "\n",
      "          TaxiCount  \n",
      "count  61307.000000  \n",
      "mean       1.807575  \n",
      "std        3.881185  \n",
      "min        0.000000  \n",
      "25%        0.000000  \n",
      "50%        0.000000  \n",
      "75%        1.000000  \n",
      "max       18.000000  \n"
     ]
    },
    {
     "data": {
      "image/png": "[encoded data removed]",
      "text/plain": [
       "<matplotlib.figure.Figure at 0x114a4c5d0>"
      ]
     },
     "metadata": {},
     "output_type": "display_data"
    }
   ],
   "source": [
    "test=data[-1]\n",
    "\n",
    "print test.describe()\n",
    "\n",
    "Xt=test.drop(['TaxiCount'],axis=1).as_matrix()\n",
    "yt=np.array(test['TaxiCount'].tolist()).reshape(-1,1)\n",
    "P=rf.predict(Xt)\n",
    "e=[x-y for x,y in zip(P,yt)]\n",
    "\n",
    "\n",
    "#plt.plot(yt,'-g')\n",
    "#plt.plot(P,'-b')\n",
    "plt.plot(e,'-r')\n",
    "plt.show()"
   ]
  }
 ],
 "metadata": {
  "kernelspec": {
   "display_name": "Python 2",
   "language": "python",
   "name": "python2"
  },
  "language_info": {
   "codemirror_mode": {
    "name": "ipython",
    "version": 2
   },
   "file_extension": ".py",
   "mimetype": "text/x-python",
   "name": "python",
   "nbconvert_exporter": "python",
   "pygments_lexer": "ipython2",
   "version": "2.7.13"
  }
 },
 "nbformat": 4,
 "nbformat_minor": 2
}
