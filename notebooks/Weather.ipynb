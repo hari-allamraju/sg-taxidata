{
 "cells": [
  {
   "cell_type": "code",
   "execution_count": 1,
   "metadata": {
    "collapsed": true
   },
   "outputs": [],
   "source": [
    "%load_ext autoreload\n",
    "%autoreload 2\n",
    "\n",
    "import pandas as pd\n",
    "import numpy as np\n",
    "import sqlite3\n",
    "import taxis\n",
    "import weather\n",
    "from utils import *\n",
    "from visualize import *\n",
    "from sklearn.linear_model import *\n",
    "from sklearn.kernel_ridge import *\n",
    "from sklearn.pipeline import *\n",
    "from sklearn.preprocessing import *\n",
    "from datetime import datetime\n",
    "from sklearn.cluster import *\n",
    "from sklearn.svm import *\n",
    "from sklearn.ensemble import *\n",
    "from sklearn.neighbors import *\n",
    "from matplotlib import cm\n",
    "\n",
    "DBNAME=\"../taxis.db\"\n",
    "LAT=1.380766\n",
    "LON=103.891675\n",
    "LAT1=1.303693\n",
    "LON1=103.844952\n",
    "\n",
    "holidays=['20170626']\n",
    "def peak(h,m,w):\n",
    "    return 1 if ((w==1 and (h>=6 and (h <=9 and m<30)) or (h >= 18))) else 0\n",
    "\n",
    "def weekday(d):\n",
    "    dt=datetime.strptime(d,\"%Y%m%d\")\n",
    "    return 1 if datetime.isoweekday(dt)<6 else 0\n"
   ]
  },
  {
   "cell_type": "code",
   "execution_count": 2,
   "metadata": {},
   "outputs": [
    {
     "data": {
      "text/plain": [
       "['20170624',\n",
       " '20170625',\n",
       " '20170626',\n",
       " '20170627',\n",
       " '20170628',\n",
       " '20170629',\n",
       " '20170630',\n",
       " '20170701',\n",
       " '20170702',\n",
       " '20170703',\n",
       " '20170704',\n",
       " '20170705',\n",
       " '20170706',\n",
       " '20170707',\n",
       " '20170708']"
      ]
     },
     "execution_count": 2,
     "metadata": {},
     "output_type": "execute_result"
    }
   ],
   "source": [
    "dates=weather.get_dates(DBNAME)\n",
    "dates=[str(x[0]) for x in dates]\n",
    "dates"
   ]
  },
  {
   "cell_type": "code",
   "execution_count": 4,
   "metadata": {},
   "outputs": [
    {
     "data": {
      "text/plain": [
       "1128"
      ]
     },
     "execution_count": 4,
     "metadata": {},
     "output_type": "execute_result"
    }
   ],
   "source": [
    "df=weather.getdf_date(DBNAME,'20170701')\n",
    "len(df['Forecast'])"
   ]
  },
  {
   "cell_type": "code",
   "execution_count": null,
   "metadata": {
    "collapsed": true
   },
   "outputs": [],
   "source": []
  }
 ],
 "metadata": {
  "kernelspec": {
   "display_name": "Python 2",
   "language": "python",
   "name": "python2"
  },
  "language_info": {
   "codemirror_mode": {
    "name": "ipython",
    "version": 2
   },
   "file_extension": ".py",
   "mimetype": "text/x-python",
   "name": "python",
   "nbconvert_exporter": "python",
   "pygments_lexer": "ipython2",
   "version": "2.7.13"
  }
 },
 "nbformat": 4,
 "nbformat_minor": 2
}
