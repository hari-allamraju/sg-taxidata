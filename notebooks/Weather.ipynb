{
 "cells": [
  {
   "cell_type": "code",
   "execution_count": 1,
   "metadata": {
    "collapsed": true
   },
   "outputs": [],
   "source": [
    "%load_ext autoreload\n",
    "%autoreload 2\n",
    "\n",
    "import pandas as pd\n",
    "import numpy as np\n",
    "import sqlite3\n",
    "import taxis\n",
    "import weather\n",
    "from utils import *\n",
    "from visualize import *\n",
    "from sklearn.linear_model import *\n",
    "from sklearn.kernel_ridge import *\n",
    "from sklearn.pipeline import *\n",
    "from sklearn.preprocessing import *\n",
    "from datetime import datetime\n",
    "from sklearn.cluster import *\n",
    "from sklearn.svm import *\n",
    "from sklearn.ensemble import *\n",
    "from sklearn.neighbors import *\n",
    "from matplotlib import cm\n",
    "\n",
    "DBNAME=\"../taxis.db\"\n",
    "LAT=1.380766\n",
    "LON=103.891675\n",
    "LAT1=1.303693\n",
    "LON1=103.844952\n",
    "\n",
    "holidays=['20170626']\n",
    "def peak(h,m,w):\n",
    "    return 1 if ((w==1 and (h>=6 and (h <=9 and m<30)) or (h >= 18))) else 0\n",
    "\n",
    "def weekday(d):\n",
    "    dt=datetime.strptime(d,\"%Y%m%d\")\n",
    "    return 1 if datetime.isoweekday(dt)<6 else 0\n"
   ]
  },
  {
   "cell_type": "code",
   "execution_count": 4,
   "metadata": {},
   "outputs": [
    {
     "data": {
      "text/plain": [
       "['20170624',\n",
       " '20170625',\n",
       " '20170626',\n",
       " '20170627',\n",
       " '20170628',\n",
       " '20170629',\n",
       " '20170630',\n",
       " '20170701',\n",
       " '20170702',\n",
       " '20170703',\n",
       " '20170704',\n",
       " '20170705',\n",
       " '20170706',\n",
       " '20170707',\n",
       " '20170708']"
      ]
     },
     "execution_count": 4,
     "metadata": {},
     "output_type": "execute_result"
    }
   ],
   "source": [
    "dates=weather.get_dates(DBNAME)\n",
    "dates=[str(x[0]) for x in dates]\n",
    "dates"
   ]
  },
  {
   "cell_type": "code",
   "execution_count": 6,
   "metadata": {},
   "outputs": [
    {
     "data": {
      "text/html": [
       "<div>\n",
       "<style>\n",
       "    .dataframe thead tr:only-child th {\n",
       "        text-align: right;\n",
       "    }\n",
       "\n",
       "    .dataframe thead th {\n",
       "        text-align: left;\n",
       "    }\n",
       "\n",
       "    .dataframe tbody tr th {\n",
       "        vertical-align: top;\n",
       "    }\n",
       "</style>\n",
       "<table border=\"1\" class=\"dataframe\">\n",
       "  <thead>\n",
       "    <tr style=\"text-align: right;\">\n",
       "      <th></th>\n",
       "      <th>Point</th>\n",
       "      <th>Time</th>\n",
       "      <th>X</th>\n",
       "      <th>Y</th>\n",
       "      <th>Forecast</th>\n",
       "      <th>Location</th>\n",
       "    </tr>\n",
       "  </thead>\n",
       "  <tbody>\n",
       "    <tr>\n",
       "      <th>0</th>\n",
       "      <td>0</td>\n",
       "      <td>0000</td>\n",
       "      <td>19</td>\n",
       "      <td>0</td>\n",
       "      <td>FN</td>\n",
       "      <td>Sentosa</td>\n",
       "    </tr>\n",
       "    <tr>\n",
       "      <th>1</th>\n",
       "      <td>1</td>\n",
       "      <td>0000</td>\n",
       "      <td>7</td>\n",
       "      <td>2</td>\n",
       "      <td>FN</td>\n",
       "      <td>Jurong Island</td>\n",
       "    </tr>\n",
       "    <tr>\n",
       "      <th>2</th>\n",
       "      <td>2</td>\n",
       "      <td>0000</td>\n",
       "      <td>18</td>\n",
       "      <td>3</td>\n",
       "      <td>FN</td>\n",
       "      <td>Bukit Merah</td>\n",
       "    </tr>\n",
       "    <tr>\n",
       "      <th>3</th>\n",
       "      <td>3</td>\n",
       "      <td>0000</td>\n",
       "      <td>2</td>\n",
       "      <td>4</td>\n",
       "      <td>FN</td>\n",
       "      <td>Tuas</td>\n",
       "    </tr>\n",
       "    <tr>\n",
       "      <th>4</th>\n",
       "      <td>4</td>\n",
       "      <td>0000</td>\n",
       "      <td>15</td>\n",
       "      <td>4</td>\n",
       "      <td>FN</td>\n",
       "      <td>Queenstown</td>\n",
       "    </tr>\n",
       "  </tbody>\n",
       "</table>\n",
       "</div>"
      ],
      "text/plain": [
       "   Point  Time   X  Y Forecast       Location\n",
       "0      0  0000  19  0       FN        Sentosa\n",
       "1      1  0000   7  2       FN  Jurong Island\n",
       "2      2  0000  18  3       FN    Bukit Merah\n",
       "3      3  0000   2  4       FN           Tuas\n",
       "4      4  0000  15  4       FN     Queenstown"
      ]
     },
     "execution_count": 6,
     "metadata": {},
     "output_type": "execute_result"
    }
   ],
   "source": [
    "df=weather.getdf_date(DBNAME,'20170701')\n",
    "df.head()"
   ]
  }
 ],
 "metadata": {
  "kernelspec": {
   "display_name": "Python 2",
   "language": "python",
   "name": "python2"
  },
  "language_info": {
   "codemirror_mode": {
    "name": "ipython",
    "version": 2
   },
   "file_extension": ".py",
   "mimetype": "text/x-python",
   "name": "python",
   "nbconvert_exporter": "python",
   "pygments_lexer": "ipython2",
   "version": "2.7.13"
  }
 },
 "nbformat": 4,
 "nbformat_minor": 2
}
