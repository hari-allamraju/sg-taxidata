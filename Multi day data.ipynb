{
 "cells": [
  {
   "cell_type": "code",
   "execution_count": 1,
   "metadata": {
    "collapsed": true
   },
   "outputs": [],
   "source": [
    "%load_ext autoreload\n",
    "%autoreload 2\n",
    "\n",
    "import pandas as pd\n",
    "import numpy as np\n",
    "import sqlite3\n",
    "import taxis\n",
    "from utils import *\n",
    "from visualize import *\n",
    "from sklearn.linear_model import *\n",
    "\n"
   ]
  },
  {
   "cell_type": "code",
   "execution_count": 2,
   "metadata": {},
   "outputs": [
    {
     "name": "stdout",
     "output_type": "stream",
     "text": [
      "24 12\n",
      "20 5\n"
     ]
    }
   ],
   "source": [
    "DBNAME=\"taxis.db\"\n",
    "LAT=1.380766\n",
    "LON=103.891675\n",
    "LAT1=1.303693\n",
    "LON1=103.844952\n",
    "x,y = get_grid_cell(LAT,LON,20)\n",
    "x1,y1 = get_grid_cell(LAT1,LON1,20)\n",
    "print x,y\n",
    "print x1,y1\n",
    "    \n",
    "def getdf(data):\n",
    "    df=pd.DataFrame(data)\n",
    "    df.columns=['Time','X','Y','TaxiCount']\n",
    "    df.index.name='Point'\n",
    "    df.reset_index(level=0, inplace=True)\n",
    "    return df"
   ]
  },
  {
   "cell_type": "code",
   "execution_count": 3,
   "metadata": {},
   "outputs": [
    {
     "data": {
      "text/html": [
       "<div>\n",
       "<style>\n",
       "    .dataframe thead tr:only-child th {\n",
       "        text-align: right;\n",
       "    }\n",
       "\n",
       "    .dataframe thead th {\n",
       "        text-align: left;\n",
       "    }\n",
       "\n",
       "    .dataframe tbody tr th {\n",
       "        vertical-align: top;\n",
       "    }\n",
       "</style>\n",
       "<table border=\"1\" class=\"dataframe\">\n",
       "  <thead>\n",
       "    <tr style=\"text-align: right;\">\n",
       "      <th></th>\n",
       "      <th>Point</th>\n",
       "      <th>Time</th>\n",
       "      <th>X</th>\n",
       "      <th>Y</th>\n",
       "      <th>TaxiCount</th>\n",
       "    </tr>\n",
       "  </thead>\n",
       "  <tbody>\n",
       "    <tr>\n",
       "      <th>0</th>\n",
       "      <td>0</td>\n",
       "      <td>0900</td>\n",
       "      <td>24</td>\n",
       "      <td>12</td>\n",
       "      <td>28</td>\n",
       "    </tr>\n",
       "    <tr>\n",
       "      <th>1</th>\n",
       "      <td>1</td>\n",
       "      <td>0905</td>\n",
       "      <td>24</td>\n",
       "      <td>12</td>\n",
       "      <td>37</td>\n",
       "    </tr>\n",
       "    <tr>\n",
       "      <th>2</th>\n",
       "      <td>2</td>\n",
       "      <td>0910</td>\n",
       "      <td>24</td>\n",
       "      <td>12</td>\n",
       "      <td>34</td>\n",
       "    </tr>\n",
       "    <tr>\n",
       "      <th>3</th>\n",
       "      <td>3</td>\n",
       "      <td>0915</td>\n",
       "      <td>24</td>\n",
       "      <td>12</td>\n",
       "      <td>35</td>\n",
       "    </tr>\n",
       "    <tr>\n",
       "      <th>4</th>\n",
       "      <td>4</td>\n",
       "      <td>0920</td>\n",
       "      <td>24</td>\n",
       "      <td>12</td>\n",
       "      <td>37</td>\n",
       "    </tr>\n",
       "  </tbody>\n",
       "</table>\n",
       "</div>"
      ],
      "text/plain": [
       "   Point  Time   X   Y  TaxiCount\n",
       "0      0  0900  24  12         28\n",
       "1      1  0905  24  12         37\n",
       "2      2  0910  24  12         34\n",
       "3      3  0915  24  12         35\n",
       "4      4  0920  24  12         37"
      ]
     },
     "execution_count": 3,
     "metadata": {},
     "output_type": "execute_result"
    }
   ],
   "source": [
    "data=taxis.fetch_loc_by_date('taxis.db','20170624',LAT,LON)\n",
    "data.extend(taxis.fetch_loc_by_date('taxis.db','20170625',LAT,LON))\n",
    "data.extend(taxis.fetch_loc_by_date('taxis.db','20170626',LAT,LON))\n",
    "data.extend(taxis.fetch_loc_by_date('taxis.db','20170627',LAT,LON))\n",
    "data.extend(taxis.fetch_loc_by_date('taxis.db','20170628',LAT,LON))\n",
    "\n",
    "df=getdf(data)\n",
    "df.head()"
   ]
  },
  {
   "cell_type": "code",
   "execution_count": 5,
   "metadata": {},
   "outputs": [
    {
     "ename": "SyntaxError",
     "evalue": "unexpected EOF while parsing (<ipython-input-5-a128390393fe>, line 1)",
     "output_type": "error",
     "traceback": [
      "\u001b[0;36m  File \u001b[0;32m\"<ipython-input-5-a128390393fe>\"\u001b[0;36m, line \u001b[0;32m1\u001b[0m\n\u001b[0;31m    plot_data([(df['Point'].tolist(),df['TaxiCount'].tolist())]\u001b[0m\n\u001b[0m                                                               ^\u001b[0m\n\u001b[0;31mSyntaxError\u001b[0m\u001b[0;31m:\u001b[0m unexpected EOF while parsing\n"
     ]
    }
   ],
   "source": [
    "plot_data([(df['Point'].tolist(),df['TaxiCount'].tolist())])"
   ]
  },
  {
   "cell_type": "code",
   "execution_count": 87,
   "metadata": {},
   "outputs": [
    {
     "data": {
      "image/png": "[encoded data removed]",
      "text/plain": [
       "<matplotlib.figure.Figure at 0x10b0c9f10>"
      ]
     },
     "metadata": {},
     "output_type": "display_data"
    },
    {
     "name": "stdout",
     "output_type": "stream",
     "text": [
      "[132337296132715648145572570846917397910717403943141376L, 133365153471919814248113540041697930048757432361943040L, 134400190225017161936462301157344469062255186584535040L, 135442450932594584184482829219812404079838413425999872L]\n",
      "      Point  Time   X   Y  TaxiCount\n",
      "1291   1291  2150  24  12         46\n",
      "1292   1292  2155  24  12         49\n",
      "1293   1293  2200  24  12         48\n",
      "1294   1294  2205  24  12         42\n",
      "1295   1295  2210  24  12         36\n"
     ]
    }
   ],
   "source": [
    "from sklearn.preprocessing import PolynomialFeatures\n",
    "from sklearn.linear_model import LinearRegression\n",
    "from sklearn.pipeline import Pipeline\n",
    "import numpy as np\n",
    "\n",
    "model = Pipeline([('poly', PolynomialFeatures(degree=10,include_bias=True)),\n",
    "                  ('ridge', RidgeCV(alphas=[0.001,0.002,0.003],fit_intercept=False))])\n",
    "\n",
    "X=df['Point'].as_matrix()\n",
    "y=df['TaxiCount'].as_matrix()\n",
    "\n",
    "X=X.reshape(-1,1)\n",
    "\n",
    "model.fit(X,y)\n",
    "\n",
    "plot(X,y,model)\n",
    "\n",
    "X_predict=np.array([1292,1293,1294,1295]).reshape(-1,1)\n",
    "\n",
    "\n",
    "print [int(x) for x in model.predict(X_predict)]\n",
    "\n",
    "print df.tail()"
   ]
  }
 ],
 "metadata": {
  "kernelspec": {
   "display_name": "Python 2",
   "language": "python",
   "name": "python2"
  },
  "language_info": {
   "codemirror_mode": {
    "name": "ipython",
    "version": 2
   },
   "file_extension": ".py",
   "mimetype": "text/x-python",
   "name": "python",
   "nbconvert_exporter": "python",
   "pygments_lexer": "ipython2",
   "version": "2.7.13"
  }
 },
 "nbformat": 4,
 "nbformat_minor": 2
}
